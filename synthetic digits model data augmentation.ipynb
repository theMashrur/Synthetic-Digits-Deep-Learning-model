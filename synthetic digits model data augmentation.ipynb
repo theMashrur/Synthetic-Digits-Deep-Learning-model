{
 "metadata": {
  "language_info": {
   "codemirror_mode": {
    "name": "ipython",
    "version": 3
   },
   "file_extension": ".py",
   "mimetype": "text/x-python",
   "name": "python",
   "nbconvert_exporter": "python",
   "pygments_lexer": "ipython3",
   "version": "3.7.4"
  },
  "orig_nbformat": 2,
  "kernelspec": {
   "name": "python374jvsc74a57bd0b3ba2566441a7c06988d0923437866b63cedc61552a5af99d1f4fb67d367b25f",
   "display_name": "Python 3.7.4 64-bit ('base': conda)"
  }
 },
 "nbformat": 4,
 "nbformat_minor": 2,
 "cells": [
  {
   "cell_type": "code",
   "execution_count": 1,
   "metadata": {},
   "outputs": [],
   "source": [
    "import tensorflow as tf\n",
    "\n",
    "gpu = tf.config.experimental.list_physical_devices('GPU')\n",
    "tf.config.experimental.set_memory_growth(gpu[0], True)"
   ]
  },
  {
   "cell_type": "code",
   "execution_count": 2,
   "metadata": {},
   "outputs": [],
   "source": [
    "import tensorflow.keras as keras\n",
    "from keras.preprocessing.image import ImageDataGenerator\n",
    "\n",
    "datagen = ImageDataGenerator(\n",
    "    samplewise_center=True,\n",
    "    rotation_range=20,\n",
    "    width_shift_range=0.1,\n",
    "    height_shift_range=0.1,\n",
    "    zoom_range=0.1,\n",
    "    vertical_flip=False,\n",
    "    horizontal_flip=False\n",
    ")"
   ]
  },
  {
   "cell_type": "code",
   "execution_count": 3,
   "metadata": {},
   "outputs": [
    {
     "output_type": "stream",
     "name": "stdout",
     "text": [
      "Found 10000 images belonging to 10 classes.\n",
      "Found 2000 images belonging to 10 classes.\n"
     ]
    }
   ],
   "source": [
    "train = datagen.flow_from_directory(\n",
    "    'data/synthetic_digits/imgs_train',\n",
    "    target_size=(32, 32),\n",
    "    color_mode='rgb',\n",
    "    class_mode='categorical',\n",
    "    batch_size=32\n",
    ")\n",
    "\n",
    "valid = datagen.flow_from_directory(\n",
    "    'data/synthetic_digits/imgs_valid',\n",
    "    target_size=(32, 32),\n",
    "    color_mode='rgb',\n",
    "    class_mode='categorical',\n",
    "    batch_size=32\n",
    ")"
   ]
  },
  {
   "cell_type": "code",
   "execution_count": 4,
   "metadata": {},
   "outputs": [],
   "source": [
    "from keras.models import Sequential\n",
    "from keras.layers import Flatten, Dense\n",
    "\n",
    "model = Sequential()\n",
    "model.add(Flatten(input_shape=(32, 32, 3)))\n",
    "model.add(Dense(units=512, activation='relu'))\n",
    "model.add(Dense(units=10, activation='softmax'))"
   ]
  },
  {
   "cell_type": "code",
   "execution_count": 5,
   "metadata": {},
   "outputs": [
    {
     "output_type": "stream",
     "name": "stdout",
     "text": [
      "Model: \"sequential\"\n_________________________________________________________________\nLayer (type)                 Output Shape              Param #   \n=================================================================\nflatten (Flatten)            (None, 3072)              0         \n_________________________________________________________________\ndense (Dense)                (None, 512)               1573376   \n_________________________________________________________________\ndense_1 (Dense)              (None, 10)                5130      \n=================================================================\nTotal params: 1,578,506\nTrainable params: 1,578,506\nNon-trainable params: 0\n_________________________________________________________________\n"
     ]
    }
   ],
   "source": [
    "model.summary()"
   ]
  },
  {
   "cell_type": "code",
   "execution_count": 6,
   "metadata": {},
   "outputs": [],
   "source": [
    "model.compile(loss='categorical_crossentropy', metrics=['accuracy'])"
   ]
  },
  {
   "cell_type": "code",
   "execution_count": 7,
   "metadata": {},
   "outputs": [
    {
     "output_type": "stream",
     "name": "stdout",
     "text": [
      "Epoch 1/20\n",
      "313/313 [==============================] - 33s 60ms/step - loss: 201.5560 - accuracy: 0.1918 - val_loss: 133.0953 - val_accuracy: 0.3120\n",
      "Epoch 2/20\n",
      "313/313 [==============================] - 14s 46ms/step - loss: 112.7838 - accuracy: 0.3262 - val_loss: 71.5485 - val_accuracy: 0.3830\n",
      "Epoch 3/20\n",
      "313/313 [==============================] - 14s 45ms/step - loss: 67.7274 - accuracy: 0.3954 - val_loss: 51.8186 - val_accuracy: 0.3895\n",
      "Epoch 4/20\n",
      "313/313 [==============================] - 14s 45ms/step - loss: 39.7460 - accuracy: 0.4005 - val_loss: 34.3549 - val_accuracy: 0.3915\n",
      "Epoch 5/20\n",
      "313/313 [==============================] - 14s 46ms/step - loss: 29.1797 - accuracy: 0.4037 - val_loss: 22.4193 - val_accuracy: 0.4165\n",
      "Epoch 6/20\n",
      "313/313 [==============================] - 14s 45ms/step - loss: 25.4923 - accuracy: 0.4020 - val_loss: 16.0735 - val_accuracy: 0.4300\n",
      "Epoch 7/20\n",
      "313/313 [==============================] - 14s 44ms/step - loss: 22.4676 - accuracy: 0.4058 - val_loss: 28.3424 - val_accuracy: 0.3745\n",
      "Epoch 8/20\n",
      "313/313 [==============================] - 14s 44ms/step - loss: 22.0780 - accuracy: 0.4098 - val_loss: 17.6061 - val_accuracy: 0.4345\n",
      "Epoch 9/20\n",
      "313/313 [==============================] - 14s 45ms/step - loss: 20.3172 - accuracy: 0.4376 - val_loss: 19.8728 - val_accuracy: 0.4255\n",
      "Epoch 10/20\n",
      "313/313 [==============================] - 15s 47ms/step - loss: 20.1041 - accuracy: 0.4362 - val_loss: 16.8783 - val_accuracy: 0.4520\n",
      "Epoch 11/20\n",
      "313/313 [==============================] - 16s 49ms/step - loss: 19.7411 - accuracy: 0.4507 - val_loss: 17.4628 - val_accuracy: 0.4740\n",
      "Epoch 12/20\n",
      "313/313 [==============================] - 14s 45ms/step - loss: 18.8204 - accuracy: 0.4710 - val_loss: 17.9391 - val_accuracy: 0.4780\n",
      "Epoch 13/20\n",
      "313/313 [==============================] - 14s 46ms/step - loss: 20.2717 - accuracy: 0.4691 - val_loss: 21.2930 - val_accuracy: 0.4525\n",
      "Epoch 14/20\n",
      "313/313 [==============================] - 14s 45ms/step - loss: 20.1147 - accuracy: 0.4814 - val_loss: 20.7455 - val_accuracy: 0.4805\n",
      "Epoch 15/20\n",
      "313/313 [==============================] - 14s 45ms/step - loss: 20.0549 - accuracy: 0.4749 - val_loss: 16.2640 - val_accuracy: 0.5170\n",
      "Epoch 16/20\n",
      "313/313 [==============================] - 14s 45ms/step - loss: 19.5298 - accuracy: 0.5032 - val_loss: 19.7103 - val_accuracy: 0.5175\n",
      "Epoch 17/20\n",
      "313/313 [==============================] - 14s 45ms/step - loss: 19.8349 - accuracy: 0.5068 - val_loss: 26.7378 - val_accuracy: 0.4470\n",
      "Epoch 18/20\n",
      "313/313 [==============================] - 14s 45ms/step - loss: 20.3667 - accuracy: 0.4939 - val_loss: 21.3862 - val_accuracy: 0.5080\n",
      "Epoch 19/20\n",
      "313/313 [==============================] - 14s 45ms/step - loss: 19.1093 - accuracy: 0.5253 - val_loss: 19.9368 - val_accuracy: 0.5140\n",
      "Epoch 20/20\n",
      "313/313 [==============================] - 14s 44ms/step - loss: 19.9544 - accuracy: 0.5249 - val_loss: 19.1482 - val_accuracy: 0.5355\n"
     ]
    },
    {
     "output_type": "execute_result",
     "data": {
      "text/plain": [
       "<keras.callbacks.History at 0x1c62c017c88>"
      ]
     },
     "metadata": {},
     "execution_count": 7
    }
   ],
   "source": [
    "model.fit(train, verbose=1, epochs=20, validation_data=valid)"
   ]
  },
  {
   "cell_type": "code",
   "execution_count": 8,
   "metadata": {},
   "outputs": [
    {
     "output_type": "error",
     "ename": "NameError",
     "evalue": "name 'history' is not defined",
     "traceback": [
      "\u001b[1;31m---------------------------------------------------------------------------\u001b[0m",
      "\u001b[1;31mNameError\u001b[0m                                 Traceback (most recent call last)",
      "\u001b[1;32m<ipython-input-8-3f3ee5651b2f>\u001b[0m in \u001b[0;36m<module>\u001b[1;34m\u001b[0m\n\u001b[0;32m      3\u001b[0m \u001b[1;32mfrom\u001b[0m \u001b[0mmatplotlib\u001b[0m\u001b[1;33m.\u001b[0m\u001b[0mticker\u001b[0m \u001b[1;32mimport\u001b[0m \u001b[0mMaxNLocator\u001b[0m\u001b[1;33m\u001b[0m\u001b[1;33m\u001b[0m\u001b[0m\n\u001b[0;32m      4\u001b[0m \u001b[1;33m\u001b[0m\u001b[0m\n\u001b[1;32m----> 5\u001b[1;33m \u001b[0mtrain_acc\u001b[0m \u001b[1;33m=\u001b[0m \u001b[0mhistory\u001b[0m\u001b[1;33m.\u001b[0m\u001b[0mhistory\u001b[0m\u001b[1;33m[\u001b[0m\u001b[1;34m'accuracy'\u001b[0m\u001b[1;33m]\u001b[0m\u001b[1;33m\u001b[0m\u001b[1;33m\u001b[0m\u001b[0m\n\u001b[0m\u001b[0;32m      6\u001b[0m \u001b[0mval_acc\u001b[0m \u001b[1;33m=\u001b[0m \u001b[0mhistory\u001b[0m\u001b[1;33m.\u001b[0m\u001b[0mhistory\u001b[0m\u001b[1;33m[\u001b[0m\u001b[1;34m'val_accuracy'\u001b[0m\u001b[1;33m]\u001b[0m\u001b[1;33m\u001b[0m\u001b[1;33m\u001b[0m\u001b[0m\n\u001b[0;32m      7\u001b[0m \u001b[1;33m\u001b[0m\u001b[0m\n",
      "\u001b[1;31mNameError\u001b[0m: name 'history' is not defined"
     ]
    }
   ],
   "source": [
    "import matplotlib.pyplot as plt\n",
    "from matplotlib.figure import Figure\n",
    "from matplotlib.ticker import MaxNLocator\n",
    "\n",
    "train_acc = history.history['accuracy']\n",
    "val_acc = history.history['val_accuracy']\n",
    "\n",
    "import matplotlib.pyplot as plt\n",
    "import matplotlib.ticker as mticker\n",
    "\n",
    "\n",
    "plt.ticklabel_format(style='plain', axis='x', useOffset=False)\n",
    "plt.plot(range(1, 21), train_acc)\n",
    "plt.plot(range(1, 21), val_acc)\n",
    "plt.gca().xaxis.set_major_locator(mticker.MultipleLocator(1))\n",
    "plt.xlabel(\"Epochs\")\n",
    "plt.ylabel(\"Accuracy\")\n",
    "plt.legend(['Training', 'Test'])\n",
    "plt.title('Training vs Test accuracy')\n",
    "plt.show()"
   ]
  },
  {
   "cell_type": "code",
   "execution_count": 9,
   "metadata": {},
   "outputs": [
    {
     "output_type": "execute_result",
     "data": {
      "text/plain": [
       "{'status': 'ok', 'restart': True}"
      ]
     },
     "metadata": {},
     "execution_count": 9
    }
   ],
   "source": [
    "import IPython\n",
    "\n",
    "app = IPython.Application.instance()\n",
    "app.kernel.do_shutdown(True)"
   ]
  },
  {
   "cell_type": "code",
   "execution_count": null,
   "metadata": {},
   "outputs": [],
   "source": []
  }
 ]
}